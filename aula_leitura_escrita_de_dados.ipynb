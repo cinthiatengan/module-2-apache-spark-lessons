{
  "nbformat": 4,
  "nbformat_minor": 0,
  "metadata": {
    "colab": {
      "provenance": []
    },
    "kernelspec": {
      "name": "python3",
      "display_name": "Python 3"
    },
    "language_info": {
      "name": "python"
    }
  },
  "cells": [
    {
      "cell_type": "code",
      "execution_count": 1,
      "metadata": {
        "id": "LvmZCNzZL0Ze",
        "colab": {
          "base_uri": "https://localhost:8080/"
        },
        "outputId": "c9893afa-00bc-483d-98b3-d8a3bcef7d69"
      },
      "outputs": [
        {
          "output_type": "stream",
          "name": "stdout",
          "text": [
            "Looking in indexes: https://pypi.org/simple, https://us-python.pkg.dev/colab-wheels/public/simple/\n",
            "Collecting pyspark\n",
            "  Downloading pyspark-3.3.0.tar.gz (281.3 MB)\n",
            "\u001b[K     |████████████████████████████████| 281.3 MB 51 kB/s \n",
            "\u001b[?25hCollecting py4j==0.10.9.5\n",
            "  Downloading py4j-0.10.9.5-py2.py3-none-any.whl (199 kB)\n",
            "\u001b[K     |████████████████████████████████| 199 kB 64.2 MB/s \n",
            "\u001b[?25hBuilding wheels for collected packages: pyspark\n",
            "  Building wheel for pyspark (setup.py) ... \u001b[?25l\u001b[?25hdone\n",
            "  Created wheel for pyspark: filename=pyspark-3.3.0-py2.py3-none-any.whl size=281764026 sha256=fc30289c671ad077628c09c71d17b51207d120e40455059ce9adc30e1e56a7da\n",
            "  Stored in directory: /root/.cache/pip/wheels/7a/8e/1b/f73a52650d2e5f337708d9f6a1750d451a7349a867f928b885\n",
            "Successfully built pyspark\n",
            "Installing collected packages: py4j, pyspark\n",
            "Successfully installed py4j-0.10.9.5 pyspark-3.3.0\n"
          ]
        }
      ],
      "source": [
        "!pip install pyspark"
      ]
    },
    {
      "cell_type": "code",
      "source": [
        "!pip install findspark"
      ],
      "metadata": {
        "colab": {
          "base_uri": "https://localhost:8080/"
        },
        "id": "mYTbk-UXXzmU",
        "outputId": "2da76665-dabb-4394-db39-d15d49bdc172"
      },
      "execution_count": 6,
      "outputs": [
        {
          "output_type": "stream",
          "name": "stdout",
          "text": [
            "Looking in indexes: https://pypi.org/simple, https://us-python.pkg.dev/colab-wheels/public/simple/\n",
            "Collecting findspark\n",
            "  Downloading findspark-2.0.1-py2.py3-none-any.whl (4.4 kB)\n",
            "Installing collected packages: findspark\n",
            "Successfully installed findspark-2.0.1\n"
          ]
        }
      ]
    },
    {
      "cell_type": "code",
      "source": [
        "# rodar o google drive no colab, puxa todo conteúdo do drive da pessoa\n",
        "from google.colab import drive \n",
        "drive.mount('/content/drive') "
      ],
      "metadata": {
        "id": "nydpGOuEL_mX",
        "colab": {
          "base_uri": "https://localhost:8080/"
        },
        "outputId": "1836f23b-259e-4f40-fca5-d056879a8976"
      },
      "execution_count": 2,
      "outputs": [
        {
          "output_type": "stream",
          "name": "stdout",
          "text": [
            "Mounted at /content/drive\n"
          ]
        }
      ]
    },
    {
      "cell_type": "code",
      "source": [
        "from pyspark.sql import SparkSession\n",
        "from pyspark.sql.functions import col"
      ],
      "metadata": {
        "id": "vXWYVmxPW6XW"
      },
      "execution_count": 3,
      "outputs": []
    },
    {
      "cell_type": "markdown",
      "source": [
        "Setup"
      ],
      "metadata": {
        "id": "WX7Lu0aYXXDl"
      }
    },
    {
      "cell_type": "code",
      "source": [
        "import findspark\n",
        "\n",
        "findspark.init()"
      ],
      "metadata": {
        "id": "UqDIEDgyXV_0"
      },
      "execution_count": 7,
      "outputs": []
    },
    {
      "cell_type": "code",
      "source": [
        "spark = SparkSession.builder.getOrCreate()"
      ],
      "metadata": {
        "id": "vNKJLy10YaMi"
      },
      "execution_count": 8,
      "outputs": []
    },
    {
      "cell_type": "code",
      "source": [
        "df = spark.createDataFrame([('Pedro', '4'), ('João', '5')], schema = 'nome STRING, id STRING')"
      ],
      "metadata": {
        "id": "n9W52qjHYep-"
      },
      "execution_count": 9,
      "outputs": []
    },
    {
      "cell_type": "code",
      "source": [
        "df.show()"
      ],
      "metadata": {
        "colab": {
          "base_uri": "https://localhost:8080/"
        },
        "id": "HyWTxcw_Y3Hz",
        "outputId": "a01901b8-8bec-45c0-a3fd-63c3e774f13d"
      },
      "execution_count": 10,
      "outputs": [
        {
          "output_type": "stream",
          "name": "stdout",
          "text": [
            "+-----+---+\n",
            "| nome| id|\n",
            "+-----+---+\n",
            "|Pedro|  4|\n",
            "| João|  5|\n",
            "+-----+---+\n",
            "\n"
          ]
        }
      ]
    },
    {
      "cell_type": "markdown",
      "source": [
        "acessando os tipos do spark"
      ],
      "metadata": {
        "id": "nLyGPiHhahwD"
      }
    },
    {
      "cell_type": "code",
      "source": [
        "from pyspark.sql.types import *"
      ],
      "metadata": {
        "id": "BhBOtIbsZCul"
      },
      "execution_count": 11,
      "outputs": []
    },
    {
      "cell_type": "code",
      "source": [
        "int_type = IntegerType()"
      ],
      "metadata": {
        "id": "C-CohgzsamnV"
      },
      "execution_count": 12,
      "outputs": []
    },
    {
      "cell_type": "code",
      "source": [
        "array_type = ArrayType(IntegerType())"
      ],
      "metadata": {
        "id": "aG39lkygaqdl"
      },
      "execution_count": 13,
      "outputs": []
    },
    {
      "cell_type": "markdown",
      "source": [
        "convertendo os tipos de colunas"
      ],
      "metadata": {
        "id": "TqdE32D2a05g"
      }
    },
    {
      "cell_type": "code",
      "source": [
        "df.show()"
      ],
      "metadata": {
        "colab": {
          "base_uri": "https://localhost:8080/"
        },
        "id": "2sugU-koaztW",
        "outputId": "b72286ba-7b09-4804-951b-2374fabee0a7"
      },
      "execution_count": 14,
      "outputs": [
        {
          "output_type": "stream",
          "name": "stdout",
          "text": [
            "+-----+---+\n",
            "| nome| id|\n",
            "+-----+---+\n",
            "|Pedro|  4|\n",
            "| João|  5|\n",
            "+-----+---+\n",
            "\n"
          ]
        }
      ]
    },
    {
      "cell_type": "code",
      "source": [
        "df.dtypes"
      ],
      "metadata": {
        "colab": {
          "base_uri": "https://localhost:8080/"
        },
        "id": "xdhu8Wpsa44c",
        "outputId": "b44e6a50-7746-4d40-91c7-5380b1b00a84"
      },
      "execution_count": 16,
      "outputs": [
        {
          "output_type": "execute_result",
          "data": {
            "text/plain": [
              "[('nome', 'string'), ('id', 'string')]"
            ]
          },
          "metadata": {},
          "execution_count": 16
        }
      ]
    },
    {
      "cell_type": "code",
      "source": [
        "df.select('nome', col('id').cast(IntegerType())).dtypes"
      ],
      "metadata": {
        "colab": {
          "base_uri": "https://localhost:8080/"
        },
        "id": "tSnYRU6Za6et",
        "outputId": "6ba6f224-d7c2-45d0-ec95-ae6d34be83c5"
      },
      "execution_count": 17,
      "outputs": [
        {
          "output_type": "execute_result",
          "data": {
            "text/plain": [
              "[('nome', 'string'), ('id', 'int')]"
            ]
          },
          "metadata": {},
          "execution_count": 17
        }
      ]
    },
    {
      "cell_type": "markdown",
      "source": [
        "aula de schemas"
      ],
      "metadata": {
        "id": "tp08IUw8dl21"
      }
    },
    {
      "cell_type": "code",
      "source": [
        "df = spark.createDataFrame([('Emily', 4), ('Luna', 5), ('Cinthia', 2), ('Spike', 1)])"
      ],
      "metadata": {
        "id": "4OTI6lj5bFmG"
      },
      "execution_count": 22,
      "outputs": []
    },
    {
      "cell_type": "code",
      "source": [
        "df.show()"
      ],
      "metadata": {
        "colab": {
          "base_uri": "https://localhost:8080/"
        },
        "id": "DQfMYKCCd7m7",
        "outputId": "48427fee-293f-460a-95ea-1ef1b248848b"
      },
      "execution_count": 23,
      "outputs": [
        {
          "output_type": "stream",
          "name": "stdout",
          "text": [
            "+-------+---+\n",
            "|     _1| _2|\n",
            "+-------+---+\n",
            "|  Emily|  4|\n",
            "|   Luna|  5|\n",
            "|Cinthia|  2|\n",
            "|  Spike|  1|\n",
            "+-------+---+\n",
            "\n"
          ]
        }
      ]
    },
    {
      "cell_type": "code",
      "source": [
        "df.dtypes"
      ],
      "metadata": {
        "colab": {
          "base_uri": "https://localhost:8080/"
        },
        "id": "xe4tvn-8dpST",
        "outputId": "9aa8a022-8df9-4173-c228-590d2751110b"
      },
      "execution_count": 21,
      "outputs": [
        {
          "output_type": "execute_result",
          "data": {
            "text/plain": [
              "[('_1', 'string'), ('_2', 'bigint')]"
            ]
          },
          "metadata": {},
          "execution_count": 21
        }
      ]
    },
    {
      "cell_type": "code",
      "source": [
        "df = spark.createDataFrame([('Emily', 4), ('Luna', 5), ('Cinthia', 2), ('Spike', 1)], schema = ['nome', 'id'])"
      ],
      "metadata": {
        "id": "KA475ObMdrU3"
      },
      "execution_count": 24,
      "outputs": []
    },
    {
      "cell_type": "code",
      "source": [
        "df.show()"
      ],
      "metadata": {
        "colab": {
          "base_uri": "https://localhost:8080/"
        },
        "id": "5C7-3DZsePdA",
        "outputId": "1ab3ff7d-fc32-4a35-befc-d10c56fdc57a"
      },
      "execution_count": 25,
      "outputs": [
        {
          "output_type": "stream",
          "name": "stdout",
          "text": [
            "+-------+---+\n",
            "|   nome| id|\n",
            "+-------+---+\n",
            "|  Emily|  4|\n",
            "|   Luna|  5|\n",
            "|Cinthia|  2|\n",
            "|  Spike|  1|\n",
            "+-------+---+\n",
            "\n"
          ]
        }
      ]
    },
    {
      "cell_type": "code",
      "source": [
        "df.dtypes"
      ],
      "metadata": {
        "colab": {
          "base_uri": "https://localhost:8080/"
        },
        "id": "JgrrfGojeQZe",
        "outputId": "75d742a7-ced5-43ca-8fad-7966b77e048b"
      },
      "execution_count": 26,
      "outputs": [
        {
          "output_type": "execute_result",
          "data": {
            "text/plain": [
              "[('nome', 'string'), ('id', 'bigint')]"
            ]
          },
          "metadata": {},
          "execution_count": 26
        }
      ]
    },
    {
      "cell_type": "markdown",
      "source": [
        "Criando schemas programaticamente"
      ],
      "metadata": {
        "id": "jnYo89sNekvH"
      }
    },
    {
      "cell_type": "code",
      "source": [
        "schema = StructType([\n",
        "    StructField('nome', StringType()),\n",
        "    StructField('id', IntegerType())\n",
        "    ])"
      ],
      "metadata": {
        "id": "Mlt5hHVieUtL"
      },
      "execution_count": 29,
      "outputs": []
    },
    {
      "cell_type": "code",
      "source": [
        "df = spark.createDataFrame([('Emily', 4), ('Luna', 5), ('Cinthia', 2), ('Spike', 1)], schema = schema)"
      ],
      "metadata": {
        "id": "I-uczcw-fQLP"
      },
      "execution_count": 30,
      "outputs": []
    },
    {
      "cell_type": "code",
      "source": [
        "df.dtypes"
      ],
      "metadata": {
        "colab": {
          "base_uri": "https://localhost:8080/"
        },
        "id": "0ZGL66vqfqNk",
        "outputId": "e36812c7-bf30-4b09-ad37-89927b4ca79b"
      },
      "execution_count": 31,
      "outputs": [
        {
          "output_type": "execute_result",
          "data": {
            "text/plain": [
              "[('nome', 'string'), ('id', 'int')]"
            ]
          },
          "metadata": {},
          "execution_count": 31
        }
      ]
    },
    {
      "cell_type": "markdown",
      "source": [
        "criando schemas com DDL"
      ],
      "metadata": {
        "id": "UI1EHcLCf8j4"
      }
    },
    {
      "cell_type": "code",
      "source": [
        "schema = 'nome STRING, id INT'"
      ],
      "metadata": {
        "id": "0kzCOvZ5frYR"
      },
      "execution_count": 32,
      "outputs": []
    },
    {
      "cell_type": "code",
      "source": [
        "df = spark.createDataFrame([('Emily', 4), ('Luna', 5), ('Cinthia', 2), ('Spike', 1)], schema = schema)"
      ],
      "metadata": {
        "id": "b6yHtHoAgMcc"
      },
      "execution_count": 33,
      "outputs": []
    },
    {
      "cell_type": "code",
      "source": [
        "df.dtypes"
      ],
      "metadata": {
        "colab": {
          "base_uri": "https://localhost:8080/"
        },
        "id": "KaryfztHgPE5",
        "outputId": "6b7dd2b4-1934-44fd-c6d7-1f1869f201f9"
      },
      "execution_count": 34,
      "outputs": [
        {
          "output_type": "execute_result",
          "data": {
            "text/plain": [
              "[('nome', 'string'), ('id', 'int')]"
            ]
          },
          "metadata": {},
          "execution_count": 34
        }
      ]
    },
    {
      "cell_type": "code",
      "source": [
        "df.show()"
      ],
      "metadata": {
        "colab": {
          "base_uri": "https://localhost:8080/"
        },
        "id": "zyJq_sFHgQOY",
        "outputId": "af068814-44a5-407a-ed9e-e941a03494da"
      },
      "execution_count": 35,
      "outputs": [
        {
          "output_type": "stream",
          "name": "stdout",
          "text": [
            "+-------+---+\n",
            "|   nome| id|\n",
            "+-------+---+\n",
            "|  Emily|  4|\n",
            "|   Luna|  5|\n",
            "|Cinthia|  2|\n",
            "|  Spike|  1|\n",
            "+-------+---+\n",
            "\n"
          ]
        }
      ]
    },
    {
      "cell_type": "markdown",
      "source": [
        "criando dataframes"
      ],
      "metadata": {
        "id": "bN6a_z0xgUXA"
      }
    },
    {
      "cell_type": "code",
      "source": [
        "data = [('Emily', 4), ('Luna', 5), ('Cinthia', 2), ('Spike', 1)]"
      ],
      "metadata": {
        "id": "9wI9SozYgaKj"
      },
      "execution_count": 36,
      "outputs": []
    },
    {
      "cell_type": "code",
      "source": [
        "df = spark.createDataFrame(data)"
      ],
      "metadata": {
        "id": "EMCo1hZEgRfx"
      },
      "execution_count": 37,
      "outputs": []
    },
    {
      "cell_type": "code",
      "source": [
        "df.dtypes"
      ],
      "metadata": {
        "colab": {
          "base_uri": "https://localhost:8080/"
        },
        "id": "ArhQa-CPgvkk",
        "outputId": "030715cc-b741-4e65-d6a6-4fd876302f2d"
      },
      "execution_count": 38,
      "outputs": [
        {
          "output_type": "execute_result",
          "data": {
            "text/plain": [
              "[('_1', 'string'), ('_2', 'bigint')]"
            ]
          },
          "metadata": {},
          "execution_count": 38
        }
      ]
    },
    {
      "cell_type": "code",
      "source": [
        "df.schema"
      ],
      "metadata": {
        "colab": {
          "base_uri": "https://localhost:8080/"
        },
        "id": "PAEk2zrqgw1P",
        "outputId": "0d15a978-07fe-4ad5-f137-cb0625f77c2b"
      },
      "execution_count": 39,
      "outputs": [
        {
          "output_type": "execute_result",
          "data": {
            "text/plain": [
              "StructType([StructField('_1', StringType(), True), StructField('_2', LongType(), True)])"
            ]
          },
          "metadata": {},
          "execution_count": 39
        }
      ]
    },
    {
      "cell_type": "code",
      "source": [
        "df.printSchema()"
      ],
      "metadata": {
        "colab": {
          "base_uri": "https://localhost:8080/"
        },
        "id": "6i0IaWSqg6GE",
        "outputId": "3a8e860e-eaf0-43c0-d785-9c1c22b4887e"
      },
      "execution_count": 40,
      "outputs": [
        {
          "output_type": "stream",
          "name": "stdout",
          "text": [
            "root\n",
            " |-- _1: string (nullable = true)\n",
            " |-- _2: long (nullable = true)\n",
            "\n"
          ]
        }
      ]
    },
    {
      "cell_type": "code",
      "source": [
        "spark.range(100).show()"
      ],
      "metadata": {
        "colab": {
          "base_uri": "https://localhost:8080/"
        },
        "id": "lsaiKgdJg-p8",
        "outputId": "7f96e5f7-f23f-4563-bb8d-e71a4fbf47d0"
      },
      "execution_count": 41,
      "outputs": [
        {
          "output_type": "stream",
          "name": "stdout",
          "text": [
            "+---+\n",
            "| id|\n",
            "+---+\n",
            "|  0|\n",
            "|  1|\n",
            "|  2|\n",
            "|  3|\n",
            "|  4|\n",
            "|  5|\n",
            "|  6|\n",
            "|  7|\n",
            "|  8|\n",
            "|  9|\n",
            "| 10|\n",
            "| 11|\n",
            "| 12|\n",
            "| 13|\n",
            "| 14|\n",
            "| 15|\n",
            "| 16|\n",
            "| 17|\n",
            "| 18|\n",
            "| 19|\n",
            "+---+\n",
            "only showing top 20 rows\n",
            "\n"
          ]
        }
      ]
    },
    {
      "cell_type": "markdown",
      "source": [
        "### Leitura e escrita de dataframes"
      ],
      "metadata": {
        "id": "vgIZTQtLkkjZ"
      }
    },
    {
      "cell_type": "code",
      "source": [
        "data_path = 'C:/projects/aula'"
      ],
      "metadata": {
        "id": "HpCScopphGZM"
      },
      "execution_count": null,
      "outputs": []
    },
    {
      "cell_type": "code",
      "source": [
        "file_path = 'C:/projects/aula/dados.csv'"
      ],
      "metadata": {
        "id": "0a9gOOb8lNEN"
      },
      "execution_count": null,
      "outputs": []
    },
    {
      "cell_type": "markdown",
      "source": [
        "### Dataframe reader"
      ],
      "metadata": {
        "id": "60hrQ4v6lThT"
      }
    },
    {
      "cell_type": "code",
      "source": [
        "spark.read.format(formato).option(args).load(file/path)"
      ],
      "metadata": {
        "id": "1sJXIU2wlWMN"
      },
      "execution_count": null,
      "outputs": []
    },
    {
      "cell_type": "markdown",
      "source": [
        "Dataframe writer"
      ],
      "metadata": {
        "id": "CNAv7Pmflfdw"
      }
    },
    {
      "cell_type": "code",
      "source": [
        "df.write.format(format).option(args).save(file/path)"
      ],
      "metadata": {
        "id": "kl4tbEVDlh1c"
      },
      "execution_count": null,
      "outputs": []
    },
    {
      "cell_type": "markdown",
      "source": [
        "### Lendo e escrevendo CSV"
      ],
      "metadata": {
        "id": "iMGYafY1lpYf"
      }
    },
    {
      "cell_type": "markdown",
      "source": [
        "Opções mais comuns: \n",
        "- header\n",
        "- inferSchema\n",
        "- sep\n",
        "- encoding"
      ],
      "metadata": {
        "id": "enjl82tCltuq"
      }
    },
    {
      "cell_type": "code",
      "source": [
        "df = spark.read.format('csv').load(file_path)"
      ],
      "metadata": {
        "id": "XS4alQ01lsj7"
      },
      "execution_count": null,
      "outputs": []
    },
    {
      "cell_type": "code",
      "source": [
        "df.limit(5).show()"
      ],
      "metadata": {
        "id": "AdWCNX3AmO36"
      },
      "execution_count": null,
      "outputs": []
    },
    {
      "cell_type": "markdown",
      "source": [
        "#### definindo schema"
      ],
      "metadata": {
        "id": "16-kAUOXmTgx"
      }
    },
    {
      "cell_type": "code",
      "source": [
        "schema = 'cod_cnae STRING, descricao STRING'"
      ],
      "metadata": {
        "id": "wQHv3i9smR5A"
      },
      "execution_count": null,
      "outputs": []
    },
    {
      "cell_type": "markdown",
      "source": [
        "opção 1 de correção"
      ],
      "metadata": {
        "id": "DKo0c5EYmfNz"
      }
    },
    {
      "cell_type": "code",
      "source": [
        "# encoding latino para corrigir acentos e cedilha\n",
        "df = spark.read.csv(file_path, sep=';', encoding = 'ISO-8859-1', schema=schema)\n",
        "df.limit(15).show()"
      ],
      "metadata": {
        "id": "DP0u_C7Mmeli"
      },
      "execution_count": null,
      "outputs": []
    },
    {
      "cell_type": "markdown",
      "source": [
        "opção de correção 2"
      ],
      "metadata": {
        "id": "DYzqAZNQnAGj"
      }
    },
    {
      "cell_type": "code",
      "source": [
        "df = (spark.read\n",
        "      .format('csv')\n",
        "      .option('sep', ';')\n",
        "      .option('encoding', 'ISO-8859-1')\n",
        "      .schema(schema)\n",
        "      .load(file_path)\n",
        "      )\n",
        "df.limit(5).show()"
      ],
      "metadata": {
        "id": "wKmDRwxvnBVo"
      },
      "execution_count": null,
      "outputs": []
    },
    {
      "cell_type": "markdown",
      "source": [
        "opção correção 3"
      ],
      "metadata": {
        "id": "Kp6-k3WZnnbg"
      }
    },
    {
      "cell_type": "code",
      "source": [
        "df = (spark.read\n",
        "      .format('csv')\n",
        "      .option(sep=';', encoding='ISO-8859-1' )\n",
        "      .schema(schema)\n",
        "      .load(file_path)\n",
        "      )\n",
        "df.limit(5).show()"
      ],
      "metadata": {
        "id": "KZUfaKnonpUo"
      },
      "execution_count": null,
      "outputs": []
    },
    {
      "cell_type": "markdown",
      "source": [
        "obs: utilizando o metodo options podemos parametrizar melhor nossa função usando um dicionario"
      ],
      "metadata": {
        "id": "N_aATjmVoAea"
      }
    },
    {
      "cell_type": "code",
      "source": [
        "options_dict = {\n",
        "    'sep': ';',\n",
        "    'encoding': 'ISO-8859-1',\n",
        "}\n",
        "\n",
        "df = (spark.read\n",
        "      .format('csv')\n",
        "      .option(**options_dict)\n",
        "      .schema(schema)\n",
        "      .load(file_path)\n",
        "      )"
      ],
      "metadata": {
        "id": "nSt5LGROoHId"
      },
      "execution_count": null,
      "outputs": []
    },
    {
      "cell_type": "code",
      "source": [
        "df.printSchema()"
      ],
      "metadata": {
        "id": "giFTXR_VoisY"
      },
      "execution_count": null,
      "outputs": []
    },
    {
      "cell_type": "code",
      "source": [
        "df.write.format('csv').save(data_path + 'df_cnae_teste', header=True)"
      ],
      "metadata": {
        "id": "qRHvmyDHomu4"
      },
      "execution_count": null,
      "outputs": []
    },
    {
      "cell_type": "code",
      "source": [
        "spark.read.format('csv').load(data_path + 'df_cnae', header=True).printSchema()"
      ],
      "metadata": {
        "id": "dcLT80jAovvd"
      },
      "execution_count": null,
      "outputs": []
    },
    {
      "cell_type": "markdown",
      "source": [
        "Lendo e escrevendo em JSON"
      ],
      "metadata": {
        "id": "EVMX8DjBpHWK"
      }
    },
    {
      "cell_type": "code",
      "source": [
        "df.write.format('json').save(data_path + 'df_cnae.json')"
      ],
      "metadata": {
        "id": "TcdjnXdppJJf"
      },
      "execution_count": null,
      "outputs": []
    },
    {
      "cell_type": "code",
      "source": [
        "df_json = spark.read.format('json').load(data_path + 'df_cnae.json')"
      ],
      "metadata": {
        "id": "snsXbs1_snLz"
      },
      "execution_count": null,
      "outputs": []
    },
    {
      "cell_type": "code",
      "source": [
        "df.show()"
      ],
      "metadata": {
        "id": "QO_uhjftszRX"
      },
      "execution_count": null,
      "outputs": []
    },
    {
      "cell_type": "code",
      "source": [
        "df_json.printSchema()"
      ],
      "metadata": {
        "id": "YONBWzF6s0mG"
      },
      "execution_count": null,
      "outputs": []
    },
    {
      "cell_type": "markdown",
      "source": [
        "Lendo e escrevendo em formato ORC"
      ],
      "metadata": {
        "id": "Gdd_HGrvs3NU"
      }
    },
    {
      "cell_type": "code",
      "source": [
        "formato = 'ord'\n",
        "df.write.format(formato).save(data_path + 'df_cnae' + formato)"
      ],
      "metadata": {
        "id": "ziv5876Ys7p4"
      },
      "execution_count": null,
      "outputs": []
    },
    {
      "cell_type": "code",
      "source": [
        "df_orc = spark.read.format('orc').load(data_path + 'df_cnae.ord').show()"
      ],
      "metadata": {
        "id": "75QGfc78tHm5"
      },
      "execution_count": null,
      "outputs": []
    },
    {
      "cell_type": "code",
      "source": [
        "df_orc.printSchema()"
      ],
      "metadata": {
        "id": "0juJATsXtPMq"
      },
      "execution_count": null,
      "outputs": []
    },
    {
      "cell_type": "markdown",
      "source": [
        "Lendo e escrevendo em Parquet \n",
        "\n",
        "- formato padrão do spark\n",
        "- preserva metadados\n",
        "- suporte para dados estruturados\n",
        "- consegue armazenar tipos complexos\n",
        "- compressão de dados\n",
        "- otimizado para trabalhar com volumes gigantesco de dados\n",
        "- integração com ferramentas de cloud como AWS Athena, Amazon Redshift, Google BigQuery e google Dataproc"
      ],
      "metadata": {
        "id": "_kvR4WoWtRde"
      }
    },
    {
      "cell_type": "code",
      "source": [
        "df.write.format('parquet').save(data_path + 'df_cnae')"
      ],
      "metadata": {
        "id": "h8kTmL9gtpc9"
      },
      "execution_count": null,
      "outputs": []
    },
    {
      "cell_type": "code",
      "source": [
        "df_parquet = spark.read.format('parquet').load(data_path + 'df_cnae')"
      ],
      "metadata": {
        "id": "N2AQgt_ptwnv"
      },
      "execution_count": null,
      "outputs": []
    },
    {
      "cell_type": "code",
      "source": [
        "df_parquet.printSchema()"
      ],
      "metadata": {
        "id": "02oAw7wct4jI"
      },
      "execution_count": null,
      "outputs": []
    }
  ]
}